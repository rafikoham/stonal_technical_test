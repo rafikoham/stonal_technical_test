{
 "cells": [
  {
   "cell_type": "code",
   "execution_count": 1,
   "metadata": {},
   "outputs": [],
   "source": [
    "import os\n",
    "import warnings\n",
    "\n",
    "warnings.filterwarnings('ignore')\n",
    "os.chdir(\"/Users/rafik/OneDrive/Desktop/Stonal\")\n",
    "\n",
    "PDF_FILE_PATH=\"documents/DPE.pdf\""
   ]
  },
  {
   "cell_type": "markdown",
   "metadata": {},
   "source": [
    "### En utilisant Langchain PyPDFLoader \n",
    "#### Cette méthode permet également de récupérer les nombres de pages"
   ]
  },
  {
   "cell_type": "code",
   "execution_count": 6,
   "metadata": {},
   "outputs": [
    {
     "name": "stdout",
     "output_type": "stream",
     "text": [
      "Il y a 6 pages\n",
      "[Document(page_content='Estimation des coûts annuels d’énergie du logement Performance énergétique \\nExemple de DPE, données ﬁctives non représentatives\\ndiagnostic de performance \\nénergétique  (logement)\\nCe document vous permet de savoir si votre logement est économe en énergie et préserve le climat. Il vous donne également des pistes pour \\naméliorer ses performances et réduire vos factures. Pour en savoir plus : <url_gouv_guide_pédagogique> \\nadresse :  42 avenue de la République, 44000 Nantes \\ntype de bien :  maison individuelle \\nannée de construction : 2003\\nsurface habitable :  150m2\\npropriétaire : Jean Dupont \\nadresse : place de la Mairie, 44000 Nantes \\nPM Diagnostics\\n12 grande rue, \\n44000 Nantes \\ndiagnostiqueur :  Pierre Martintel :  02 88 22 33 09\\nemail :  Pierre@pm-diagnostics.fr \\nn° de certiﬁcation : FR410230 49 \\norganisme de certiﬁcation : CERTIF 311  n° : 2D20210532 \\n établi le : 12/07/2021 \\n valable jusqu’au : 12/07/2031 DPE\\nLes coûts sont estimés en fonction des caractéristiques de votre logement et pour une utilisation standard sur 5 usages (chauffage, eau chaude sanitaire, \\nclimatisation, éclairage, auxiliaires) voir p.3 pour voir les détails par poste. \\nPrix moyens des énergies indexés au 1 er  janvier 2021 (abonnements compris)par an entre et 2 620 € 3 560 €\\nInformations diagnostiqueurlogement très performant \\nlogement extrêmement consommateur d’énergie passoire \\nénergétique consommation \\n(énergie primaire) émissionsA\\nB\\nC\\nED\\nF\\nG\\nLOGO Le niveau de consommation énergétique dépend de l’isolation du \\nlogement et de la performance des équipements. \\nPour l’améliorer, voir pages 4 à 6 \\nComment réduire ma facture d’énergie ? \\nvoir p.3            216\\nkWh/m 2.an 52 *\\nkg CO₂/m².an \\nCe logement émet 7 933 kg de CO₂ par an, \\nsoit l’équivalent de 41 107 km parcourus \\nen voiture.  \\nLe niveau d’émissions dépend \\nprincipalement des types d’énergies \\nutilisées (bois, électricité, gaz, ﬁoul, etc.)          * Dont émissions de gaz \\nà effet de serre \\nA\\nB\\nC\\nED\\nF\\nGpeu d’émissions de CO₂ \\némissions de CO₂  \\ntrès importantes 52 kg CO₂/m².an <photo du bien>', metadata={'source': 'documents/DPE.pdf', 'page': 0}), Document(page_content='DPE  diagnostic de performance énergétique  (logement)\\nSchéma des déperditions de chaleur Performance de l’isolation \\nSystème de ventilation en place \\nProduction d’énergies renouvelables Confort d’été (hors climatisation)* p.2 \\n i d f é éiExemple de DPE, données ﬁctives non représentatives\\ntoiture ou \\nplafond \\n34%\\nplancher bas \\n20%murs \\n9%ventilation \\n17%\\nportes \\net fenêtres \\n12%\\nponts thermiques \\n8%INSUFFISANTE MOYENNE BONNE TRÈS BONNE\\nPour améliorer le confort d’été : réseaux de \\nchaleur vertueux panneaux solaires \\nthermiquespompe à chaleurchauffe-eau \\nthermodynamique\\ngéothermie panneaux solaires \\nphotovoltaïques \\nchauffage au \\nboisINSUFFISANT MOYEN BON\\nLes caractéristiques de votre logement améliorant le \\nconfort d’été : Ce logement n’est pas encore équipé de systèmes de \\nproduction d’énergie renouvelable. \\nDiverses solutions existent : \\n*Le niveau de confort d’été présenté ici s’appuie uniquement \\nsur les caractéristiques de votre logement (la localisation n’est \\npas prise en compte). Équipez les fenêtres de votre logement de volets \\nextérieurs ou brise-soleil. \\nFaites isoler la toiture du bâtiment \\n(rapprochez-vous de votre copropriété). bonne inertie du logement logement traversant \\nVentilation mécanique contrôlée \\nsimple flux autoréglable.', metadata={'source': 'documents/DPE.pdf', 'page': 1}), Document(page_content='DPE  diagnostic de performance énergétique  (logement)\\nRecommandations d’usage pour votre logement \\ni d f é é iExemple de DPE, données ﬁctives non représentatives\\np.3 \\nEn savoir plus sur les bons réflexes d’économie d’énergie : \\nwww.faire.gouv.fr/reduire-ses-factures-energie Quelques gestes simples pour maîtriser votre facture d’énergie : Montants et consommations annuels d’énergie \\nusageconsommation d’énergie \\n(en kWh énergie primaire) frais annuels d’énergie \\n(fourchette d’estimation*) \\nchauffage ﬁoul   22 500 (22 500 é.f.) entre 1740€ et 2370€\\neau chaude\\nsanitaireélectrique     8 625 (3  750 é.f.) entre 750€ et 1030€\\nrefroidissement               0 (0 é.f.) 0€\\néclairage électrique        690 (300 é.f.) entre 60€ et 90 €\\nauxiliaires électrique        690 (300 é.f.) entre 60€ et 90 €\\nénergie totale pour les \\nusages recensés :   32 505 kWh \\n                         (26  850 kWh é.f.) entre 2620€ et  3560€\\npar an67%\\n29%\\n0%\\n2%\\n2%répartition des dépenses \\n      Seules les consommations d’énergie nécessaires au chauffage, à la climatisation, \\nà la production d’eau chaude sanitaire, à l’éclairage et aux auxiliaires (ventilateurs, \\npompes) sont prises en compte dans cette estimation.  Les consommations liées aux \\nautres usages (électroménager, appareils électroniques...) ne sont pas comptabilisées. \\n      Les factures réelles dépendront de nombreux facteurs : prix des énergies, météo de \\nl’année (hiver froid ou doux...), nombre de personnes dans le logement et habitudes de \\nvie, entretien des équipements...Ces chiffres sont donnés pour une température de chauffage de 19°, \\nune climatisation réglée à 28° (si présence de clim), \\net une consommation d’eau chaude de 123ℓ par jour.\\né.f. → énergie ﬁnale \\n* Prix moyens des énergies indexés au 1 er  janvier 2021 (abonnements compris)\\nTempérature recommandée en hiver → 19° \\nChauffer à 19° plutôt que 21° , \\nc’est -15% sur votre facture  soit -308€ par an \\nSi climatisation, \\ntempérature recommandée en été → 28° \\nConsommation recommandée → 132ℓ/jour \\nd’eau chaude à 40° \\nEstimation faite par rapport à la surface de votre logement \\n(2-3 personnes). Une douche de 5 minute = environ 40ℓ. \\n54ℓ consommés en moins par jour,  \\nc’est -29% sur votre facture  soit -365€  par an \\n astuces : \\n→ diminuez le chauffage quand  \\n   vous n’êtes pas là \\n→ chauffez les chambres à 17° la nuit Pour rester dans cette fourchette \\nd’estimation, voir les recommandations \\nd’usage ci-dessous  \\n astuces \\n→ Diminuez le chauffage quand  \\n vous n’êtes pas là. \\n→ Chauffez les chambres à 17° la nuit. \\n astuces \\n→ Fermez les fenêtres et volets la \\n journée quand il fait chaud.\\n→ Aérez votre logement la nuit. \\n astuces \\n→ Installez des mousseurs d’eau sur \\n les robinets et un pommeau à faible \\n débit sur la douche.\\n→ Réduisez la durée des douches.', metadata={'source': 'documents/DPE.pdf', 'page': 2}), Document(page_content='DPE  diagnostic de performance énergétique  (logement)\\nVue d’ensemble du logement \\nVue d’ensemble des équipements \\nRecommandations de gestion et d’entretien des équipements \\ni d f é é iExemple de DPE, données ﬁctives non représentatives\\np.4 \\ndescription isolation\\nmursMurs nord, ouest, sud en blocs de béton pleins donnant sur l’extérieur, avec isolation \\nintérieure. \\nMur est en blocs de béton creux donnant sur un garage, non isolé. \\nplancher basPlancher lourd type, entrevous terre-cuite, poutrelles béton donnant sur vide sanitaire, \\nisolation inconnue.\\ntoiture/plafond Combles aménagés sous rampant donnant sur l’extérieur, isolé. \\nportes et fenêtres Porte bois opaque pleine. \\nFenêtres battantes PVC, double vitrage et volets roulants PVC. \\nPortes-fenêtres battantes avec soubassement PVC, double vitrage et volets roulants \\nPVC. \\ndescription\\nchauffageChaudière ﬁoul standard installée entre 1991 et 2015 (système individuel). \\n Cheminée à foyer ouvert : son utilisation, même occasionnelle, est source de gaspillage \\nénergétique et présente de forts impacts sur la qualité de l’air. \\neau chaude sanitaire Ballon électrique à accumulation vertical, avec ballon séparé (système individuel). \\nclimatisation Sans objet\\nventilation VMC simple flux autoréglable installée avant 1982. insufﬁsante insufﬁsante \\nmoyenne bonne\\ntype d’entretien\\nVMCNettoyer les bouches d’aération → 1 fois par an\\nchanger les ﬁltres → tous les 2 ans \\nchaudière Entretien par un professionnel → 1 fois par an .\\nradiateurs Nettoyer les radiateurs régulièrement pour garder leur efﬁcacité. \\néclairages Description\\nvitrages Pour garder un logement lumineux penser à nettoyer les vitres régulièrement. \\ncircuit de chauffage Description\\nclimatiseur DescriptionVoir en annexe le descriptif complet et détaillé du  logement et de ses équipements \\nPour maîtriser vos consommations d’énergie, la bonn e gestion et l’entretien régulier des équipements d e votre logement \\nsont essentiels. \\n Selon la conﬁguration, certaines recommandations re lèvent de la copropriété ou du gestionnaire de l’im meuble.', metadata={'source': 'documents/DPE.pdf', 'page': 3}), Document(page_content='DPE  diagnostic de performance énergétique  (logement)\\nRecommandations d’amélioration de la performance énergétique \\ni d f é é iExemple de DPE, données ﬁctives non représentatives\\np.5 \\nLes travaux essentiels  montant estimé : 9000 à 12000€\\nLes travaux à envisager montant estimé : 20000 à 25000€\\nCommentaires : 1\\n2Des travaux peuvent vous permettre d’améliorer sign iﬁcativement l’efﬁcacité énergétique de votre \\nlogement et ainsi de faire des économies d’énergie,  d’améliorer son confort, de le valoriser et de le \\nrendre plus écologique.  Le pack       de travaux vous permet de réaliser le s travaux prioritaires, \\net le pack        d’aller vers un logement très per formant. \\nSi vous en avez la possibilité, il est plus efﬁcace et rentable de procéder à une rénovation globale de \\nvotre logement (voir packs de travaux       +      ci-dessous). La rénovation performante par étapes est \\naussi une alternative possible (réalisation du pack       avant le pack      ). Faites-vous accompagner par \\nun professionnel compétent (bureau d’études, architecte, entreprise générale de travaux, groupement \\nd’artisans...) pour préciser votre projet et coordonner vos travaux. \\nlot description performance recommandée \\ntoiture et combles Isoler les combles. R = 4,5 m2.K/W\\nchauffage Installer une pompe à chaleur. <chiffre_perf.> \\nportes et fenêtres Refaire l’étanchéité des huisseries. <chiffre_perf.> \\nlot description performance recommandée \\nmursIsolation des murs par l’extérieur. \\nSi un ravalement de façade est prévu, effectuez une \\nisolation par l’extérieur avec des retours d’isolants au \\nniveau des tableaux de baie.\\n travaux pouvant nécessiter une autorisation d’urbanisme \\n travaux à réaliser par la copropriété R = 4,5 m2.K/W\\nplancher bas Isolation du plancher bas en sous-face. <chiffre_perf.> \\neau chaude sanitaire Changer le chauffe-eau. <chiffre_perf.> \\nventilation Installer une VMC hydroréglable type B. <chiffre_perf.>', metadata={'source': 'documents/DPE.pdf', 'page': 4}), Document(page_content='DPE  diagnostic de performance énergétique  (logement)\\nRecommandations d’amélioration de la performance énergétique (suite) \\nÉvolution de la performance énergétique après travaux \\ni d f é é iExemple de DPE, données ﬁctives non représentatives\\np.6 \\nPréparez votre projet ! \\nContactez le conseiller FAIRE le \\nplus proche de chez vous, pour des \\nconseils gratuits et indépendants sur \\nvos choix de travaux et d’artisans :  \\nwww.faire.gouv.fr/trouver-un- \\nconseiller \\nou 0808 800 700 (prix d’un appel local)\\nVous pouvez bénéﬁcier d’aides, de \\nprimes et de subventions pour vos \\ntravaux : \\nwww.faire.gouv.fr/aides-de- \\nﬁnancement\\nPour répondre à l’urgence \\nclimatique et environnementale, \\nla France s’est ﬁxée pour objectif \\nd’ici 2050 de rénover l’ensemble \\ndes logements à un haut niveau de \\nperformance énergétique. \\nÀ court terme, la priorité est \\ndonnée à la suppression des \\nénergies fortement émettrices de \\ngaz à effet de serre (ﬁoul, charbon) \\net à l’éradication des «passoires \\nénergétiques» (obligation de \\ntravaux avant 2028). peu d’émissions de CO₂ \\némissions de CO₂ très importantes A\\nB\\nC\\nD\\nE\\nF\\nGlogement très performant \\nlogement extrêmement consommateur d’énergie A\\nB\\nC\\nD\\nE\\nF\\nGétat actuel\\nconsommation : 216 kWh/m 2/an \\némissions : 52 kg CO₂/m².an \\nétat actuel\\n52  kg CO₂/m 2/an avec travaux \\nconsommation : 124 kWh/m 2/an \\némissions : 17 kg CO₂/m².an \\navec travaux \\n17  kg CO₂/m 2/an avec travaux      + \\nconsommation : 98 kWh/m 2/an \\némissions : 10 kg CO₂/m².an \\navec travaux      + \\n10  kg CO₂/m 2/an Dont émissions de gaz à effet de serre', metadata={'source': 'documents/DPE.pdf', 'page': 5})]\n"
     ]
    }
   ],
   "source": [
    "from langchain.document_loaders import PyPDFLoader\n",
    "loader = PyPDFLoader(PDF_FILE_PATH)\n",
    "pages=loader.load_and_split()\n",
    "print(f\"Il y a {len(pages)} pages\")\n",
    "print(pages)\n"
   ]
  },
  {
   "cell_type": "markdown",
   "metadata": {},
   "source": [
    "### On peut également extraire des images"
   ]
  },
  {
   "cell_type": "code",
   "execution_count": 7,
   "metadata": {},
   "outputs": [
    {
     "name": "stderr",
     "output_type": "stream",
     "text": [
      "WARNING:root:Because the aspect ratio of the current image exceeds the limit (min_height or width_height_ratio), the program will skip the detection step.\n",
      "WARNING:root:Because the aspect ratio of the current image exceeds the limit (min_height or width_height_ratio), the program will skip the detection step.\n",
      "WARNING:root:Because the aspect ratio of the current image exceeds the limit (min_height or width_height_ratio), the program will skip the detection step.\n",
      "WARNING:root:Because the aspect ratio of the current image exceeds the limit (min_height or width_height_ratio), the program will skip the detection step.\n",
      "WARNING:root:Because the aspect ratio of the current image exceeds the limit (min_height or width_height_ratio), the program will skip the detection step.\n",
      "WARNING:root:Because the aspect ratio of the current image exceeds the limit (min_height or width_height_ratio), the program will skip the detection step.\n",
      "WARNING:root:Because the aspect ratio of the current image exceeds the limit (min_height or width_height_ratio), the program will skip the detection step.\n",
      "WARNING:root:Because the aspect ratio of the current image exceeds the limit (min_height or width_height_ratio), the program will skip the detection step.\n",
      "WARNING:root:Because the aspect ratio of the current image exceeds the limit (min_height or width_height_ratio), the program will skip the detection step.\n",
      "WARNING:root:Because the aspect ratio of the current image exceeds the limit (min_height or width_height_ratio), the program will skip the detection step.\n",
      "WARNING:root:Because the aspect ratio of the current image exceeds the limit (min_height or width_height_ratio), the program will skip the detection step.\n",
      "WARNING:root:Because the aspect ratio of the current image exceeds the limit (min_height or width_height_ratio), the program will skip the detection step.\n",
      "WARNING:root:Because the aspect ratio of the current image exceeds the limit (min_height or width_height_ratio), the program will skip the detection step.\n",
      "WARNING:root:Because the aspect ratio of the current image exceeds the limit (min_height or width_height_ratio), the program will skip the detection step.\n",
      "WARNING:root:Because the aspect ratio of the current image exceeds the limit (min_height or width_height_ratio), the program will skip the detection step.\n",
      "WARNING:root:Because the aspect ratio of the current image exceeds the limit (min_height or width_height_ratio), the program will skip the detection step.\n",
      "WARNING:root:Because the aspect ratio of the current image exceeds the limit (min_height or width_height_ratio), the program will skip the detection step.\n",
      "WARNING:root:Because the aspect ratio of the current image exceeds the limit (min_height or width_height_ratio), the program will skip the detection step.\n",
      "WARNING:root:Because the aspect ratio of the current image exceeds the limit (min_height or width_height_ratio), the program will skip the detection step.\n",
      "WARNING:root:Because the aspect ratio of the current image exceeds the limit (min_height or width_height_ratio), the program will skip the detection step.\n",
      "WARNING:root:Because the aspect ratio of the current image exceeds the limit (min_height or width_height_ratio), the program will skip the detection step.\n",
      "WARNING:root:Because the aspect ratio of the current image exceeds the limit (min_height or width_height_ratio), the program will skip the detection step.\n",
      "WARNING:root:Because the aspect ratio of the current image exceeds the limit (min_height or width_height_ratio), the program will skip the detection step.\n"
     ]
    },
    {
     "data": {
      "text/plain": [
       "[Document(page_content='Estimation des coûts annuels d’énergie du logement Performance énergétique \\nExemple de DPE, données ﬁctives non représentatives\\ndiagnostic de performance \\nénergétique  (logement)\\nCe document vous permet de savoir si votre logement est économe en énergie et préserve le climat. Il vous donne également des pistes pour \\naméliorer ses performances et réduire vos factures. Pour en savoir plus : <url_gouv_guide_pédagogique> \\nadresse :  42 avenue de la République, 44000 Nantes \\ntype de bien :  maison individuelle \\nannée de construction : 2003\\nsurface habitable :  150m2\\npropriétaire : Jean Dupont \\nadresse : place de la Mairie, 44000 Nantes \\nPM Diagnostics\\n12 grande rue, \\n44000 Nantes \\ndiagnostiqueur :  Pierre Martintel :  02 88 22 33 09\\nemail :  Pierre@pm-diagnostics.fr \\nn° de certiﬁcation : FR410230 49 \\norganisme de certiﬁcation : CERTIF 311  n° : 2D20210532 \\n établi le : 12/07/2021 \\n valable jusqu’au : 12/07/2031 DPE\\nLes coûts sont estimés en fonction des caractéristiques de votre logement et pour une utilisation standard sur 5 usages (chauffage, eau chaude sanitaire, \\nclimatisation, éclairage, auxiliaires) voir p.3 pour voir les détails par poste. \\nPrix moyens des énergies indexés au 1 er  janvier 2021 (abonnements compris)par an entre et 2 620 € 3 560 €\\nInformations diagnostiqueurlogement très performant \\nlogement extrêmement consommateur d’énergie passoire \\nénergétique consommation \\n(énergie primaire) émissionsA\\nB\\nC\\nED\\nF\\nG\\nLOGO Le niveau de consommation énergétique dépend de l’isolation du \\nlogement et de la performance des équipements. \\nPour l’améliorer, voir pages 4 à 6 \\nComment réduire ma facture d’énergie ? \\nvoir p.3            216\\nkWh/m 2.an 52 *\\nkg CO₂/m².an \\nCe logement émet 7 933 kg de CO₂ par an, \\nsoit l’équivalent de 41 107 km parcourus \\nen voiture.  \\nLe niveau d’émissions dépend \\nprincipalement des types d’énergies \\nutilisées (bois, électricité, gaz, ﬁoul, etc.)          * Dont émissions de gaz \\nà effet de serre \\nA\\nB\\nC\\nED\\nF\\nGpeu d’émissions de CO₂ \\némissions de CO₂  \\ntrès importantes 52 kg CO₂/m².an <photo du bien> ', metadata={'source': 'documents/DPE.pdf', 'page': 0}),\n",
       " Document(page_content='DPE  diagnostic de performance énergétique  (logement)\\nSchéma des déperditions de chaleur Performance de l’isolation \\nSystème de ventilation en place \\nProduction d’énergies renouvelables Confort d’été (hors climatisation)* p.2 \\n i d f é éiExemple de DPE, données ﬁctives non représentatives\\ntoiture ou \\nplafond \\n34%\\nplancher bas \\n20%murs \\n9%ventilation \\n17%\\nportes \\net fenêtres \\n12%\\nponts thermiques \\n8%INSUFFISANTE MOYENNE BONNE TRÈS BONNE\\nPour améliorer le confort d’été : réseaux de \\nchaleur vertueux panneaux solaires \\nthermiquespompe à chaleurchauffe-eau \\nthermodynamique\\ngéothermie panneaux solaires \\nphotovoltaïques \\nchauffage au \\nboisINSUFFISANT MOYEN BON\\nLes caractéristiques de votre logement améliorant le \\nconfort d’été : Ce logement n’est pas encore équipé de systèmes de \\nproduction d’énergie renouvelable. \\nDiverses solutions existent : \\n*Le niveau de confort d’été présenté ici s’appuie uniquement \\nsur les caractéristiques de votre logement (la localisation n’est \\npas prise en compte). Équipez les fenêtres de votre logement de volets \\nextérieurs ou brise-soleil. \\nFaites isoler la toiture du bâtiment \\n(rapprochez-vous de votre copropriété). bonne inertie du logement logement traversant \\nVentilation mécanique contrôlée \\nsimple flux autoréglable. ', metadata={'source': 'documents/DPE.pdf', 'page': 1}),\n",
       " Document(page_content='DPE  diagnostic de performance énergétique  (logement)\\nRecommandations d’usage pour votre logement \\ni d f é é iExemple de DPE, données ﬁctives non représentatives\\np.3 \\nEn savoir plus sur les bons réflexes d’économie d’énergie : \\nwww.faire.gouv.fr/reduire-ses-factures-energie Quelques gestes simples pour maîtriser votre facture d’énergie : Montants et consommations annuels d’énergie \\nusageconsommation d’énergie \\n(en kWh énergie primaire) frais annuels d’énergie \\n(fourchette d’estimation*) \\nchauffage ﬁoul   22 500 (22 500 é.f.) entre 1740€ et 2370€\\neau chaude\\nsanitaireélectrique     8 625 (3  750 é.f.) entre 750€ et 1030€\\nrefroidissement               0 (0 é.f.) 0€\\néclairage électrique        690 (300 é.f.) entre 60€ et 90 €\\nauxiliaires électrique        690 (300 é.f.) entre 60€ et 90 €\\nénergie totale pour les \\nusages recensés :   32 505 kWh \\n                         (26  850 kWh é.f.) entre 2620€ et  3560€\\npar an67%\\n29%\\n0%\\n2%\\n2%répartition des dépenses \\n      Seules les consommations d’énergie nécessaires au chauffage, à la climatisation, \\nà la production d’eau chaude sanitaire, à l’éclairage et aux auxiliaires (ventilateurs, \\npompes) sont prises en compte dans cette estimation.  Les consommations liées aux \\nautres usages (électroménager, appareils électroniques...) ne sont pas comptabilisées. \\n      Les factures réelles dépendront de nombreux facteurs : prix des énergies, météo de \\nl’année (hiver froid ou doux...), nombre de personnes dans le logement et habitudes de \\nvie, entretien des équipements...Ces chiffres sont donnés pour une température de chauffage de 19°, \\nune climatisation réglée à 28° (si présence de clim), \\net une consommation d’eau chaude de 123ℓ par jour.\\né.f. → énergie ﬁnale \\n* Prix moyens des énergies indexés au 1 er  janvier 2021 (abonnements compris)\\nTempérature recommandée en hiver → 19° \\nChauffer à 19° plutôt que 21° , \\nc’est -15% sur votre facture  soit -308€ par an \\nSi climatisation, \\ntempérature recommandée en été → 28° \\nConsommation recommandée → 132ℓ/jour \\nd’eau chaude à 40° \\nEstimation faite par rapport à la surface de votre logement \\n(2-3 personnes). Une douche de 5 minute = environ 40ℓ. \\n54ℓ consommés en moins par jour,  \\nc’est -29% sur votre facture  soit -365€  par an \\n astuces : \\n→ diminuez le chauffage quand  \\n   vous n’êtes pas là \\n→ chauffez les chambres à 17° la nuit Pour rester dans cette fourchette \\nd’estimation, voir les recommandations \\nd’usage ci-dessous  \\n astuces \\n→ Diminuez le chauffage quand  \\n vous n’êtes pas là. \\n→ Chauffez les chambres à 17° la nuit. \\n astuces \\n→ Fermez les fenêtres et volets la \\n journée quand il fait chaud.\\n→ Aérez votre logement la nuit. \\n astuces \\n→ Installez des mousseurs d’eau sur \\n les robinets et un pommeau à faible \\n débit sur la douche.\\n→ Réduisez la durée des douches.', metadata={'source': 'documents/DPE.pdf', 'page': 2}),\n",
       " Document(page_content='DPE  diagnostic de performance énergétique  (logement)\\nVue d’ensemble du logement \\nVue d’ensemble des équipements \\nRecommandations de gestion et d’entretien des équipements \\ni d f é é iExemple de DPE, données ﬁctives non représentatives\\np.4 \\ndescription isolation\\nmursMurs nord, ouest, sud en blocs de béton pleins donnant sur l’extérieur, avec isolation \\nintérieure. \\nMur est en blocs de béton creux donnant sur un garage, non isolé. \\nplancher basPlancher lourd type, entrevous terre-cuite, poutrelles béton donnant sur vide sanitaire, \\nisolation inconnue.\\ntoiture/plafond Combles aménagés sous rampant donnant sur l’extérieur, isolé. \\nportes et fenêtres Porte bois opaque pleine. \\nFenêtres battantes PVC, double vitrage et volets roulants PVC. \\nPortes-fenêtres battantes avec soubassement PVC, double vitrage et volets roulants \\nPVC. \\ndescription\\nchauffageChaudière ﬁoul standard installée entre 1991 et 2015 (système individuel). \\n Cheminée à foyer ouvert : son utilisation, même occasionnelle, est source de gaspillage \\nénergétique et présente de forts impacts sur la qualité de l’air. \\neau chaude sanitaire Ballon électrique à accumulation vertical, avec ballon séparé (système individuel). \\nclimatisation Sans objet\\nventilation VMC simple flux autoréglable installée avant 1982. insufﬁsante insufﬁsante \\nmoyenne bonne\\ntype d’entretien\\nVMCNettoyer les bouches d’aération → 1 fois par an\\nchanger les ﬁltres → tous les 2 ans \\nchaudière Entretien par un professionnel → 1 fois par an .\\nradiateurs Nettoyer les radiateurs régulièrement pour garder leur efﬁcacité. \\néclairages Description\\nvitrages Pour garder un logement lumineux penser à nettoyer les vitres régulièrement. \\ncircuit de chauffage Description\\nclimatiseur DescriptionVoir en annexe le descriptif complet et détaillé du  logement et de ses équipements \\nPour maîtriser vos consommations d’énergie, la bonn e gestion et l’entretien régulier des équipements d e votre logement \\nsont essentiels. \\n Selon la conﬁguration, certaines recommandations re lèvent de la copropriété ou du gestionnaire de l’im meuble. ', metadata={'source': 'documents/DPE.pdf', 'page': 3}),\n",
       " Document(page_content='DPE  diagnostic de performance énergétique  (logement)\\nRecommandations d’amélioration de la performance énergétique \\ni d f é é iExemple de DPE, données ﬁctives non représentatives\\np.5 \\nLes travaux essentiels  montant estimé : 9000 à 12000€\\nLes travaux à envisager montant estimé : 20000 à 25000€\\nCommentaires : 1\\n2Des travaux peuvent vous permettre d’améliorer sign iﬁcativement l’efﬁcacité énergétique de votre \\nlogement et ainsi de faire des économies d’énergie,  d’améliorer son confort, de le valoriser et de le \\nrendre plus écologique.  Le pack       de travaux vous permet de réaliser le s travaux prioritaires, \\net le pack        d’aller vers un logement très per formant. \\nSi vous en avez la possibilité, il est plus efﬁcace et rentable de procéder à une rénovation globale de \\nvotre logement (voir packs de travaux       +      ci-dessous). La rénovation performante par étapes est \\naussi une alternative possible (réalisation du pack       avant le pack      ). Faites-vous accompagner par \\nun professionnel compétent (bureau d’études, architecte, entreprise générale de travaux, groupement \\nd’artisans...) pour préciser votre projet et coordonner vos travaux. \\nlot description performance recommandée \\ntoiture et combles Isoler les combles. R = 4,5 m2.K/W\\nchauffage Installer une pompe à chaleur. <chiffre_perf.> \\nportes et fenêtres Refaire l’étanchéité des huisseries. <chiffre_perf.> \\nlot description performance recommandée \\nmursIsolation des murs par l’extérieur. \\nSi un ravalement de façade est prévu, effectuez une \\nisolation par l’extérieur avec des retours d’isolants au \\nniveau des tableaux de baie.\\n travaux pouvant nécessiter une autorisation d’urbanisme \\n travaux à réaliser par la copropriété R = 4,5 m2.K/W\\nplancher bas Isolation du plancher bas en sous-face. <chiffre_perf.> \\neau chaude sanitaire Changer le chauffe-eau. <chiffre_perf.> \\nventilation Installer une VMC hydroréglable type B. <chiffre_perf.> ', metadata={'source': 'documents/DPE.pdf', 'page': 4}),\n",
       " Document(page_content='DPE  diagnostic de performance énergétique  (logement)\\nRecommandations d’amélioration de la performance énergétique (suite) \\nÉvolution de la performance énergétique après travaux \\ni d f é é iExemple de DPE, données ﬁctives non représentatives\\np.6 \\nPréparez votre projet ! \\nContactez le conseiller FAIRE le \\nplus proche de chez vous, pour des \\nconseils gratuits et indépendants sur \\nvos choix de travaux et d’artisans :  \\nwww.faire.gouv.fr/trouver-un- \\nconseiller \\nou 0808 800 700 (prix d’un appel local)\\nVous pouvez bénéﬁcier d’aides, de \\nprimes et de subventions pour vos \\ntravaux : \\nwww.faire.gouv.fr/aides-de- \\nﬁnancement\\nPour répondre à l’urgence \\nclimatique et environnementale, \\nla France s’est ﬁxée pour objectif \\nd’ici 2050 de rénover l’ensemble \\ndes logements à un haut niveau de \\nperformance énergétique. \\nÀ court terme, la priorité est \\ndonnée à la suppression des \\nénergies fortement émettrices de \\ngaz à effet de serre (ﬁoul, charbon) \\net à l’éradication des «passoires \\nénergétiques» (obligation de \\ntravaux avant 2028). peu d’émissions de CO₂ \\némissions de CO₂ très importantes A\\nB\\nC\\nD\\nE\\nF\\nGlogement très performant \\nlogement extrêmement consommateur d’énergie A\\nB\\nC\\nD\\nE\\nF\\nGétat actuel\\nconsommation : 216 kWh/m 2/an \\némissions : 52 kg CO₂/m².an \\nétat actuel\\n52  kg CO₂/m 2/an avec travaux \\nconsommation : 124 kWh/m 2/an \\némissions : 17 kg CO₂/m².an \\navec travaux \\n17  kg CO₂/m 2/an avec travaux      + \\nconsommation : 98 kWh/m 2/an \\némissions : 10 kg CO₂/m².an \\navec travaux      + \\n10  kg CO₂/m 2/an Dont émissions de gaz à effet de serre \\nREPUBLIQUE\\nFRANCAISE\\nLiberte\\nEgalite\\nFraternite', metadata={'source': 'documents/DPE.pdf', 'page': 5})]"
      ]
     },
     "execution_count": 7,
     "metadata": {},
     "output_type": "execute_result"
    }
   ],
   "source": [
    "loader_images_extraction=PyPDFLoader(PDF_FILE_PATH,\n",
    "                                   extract_images=True)\n",
    "pages=loader_images_extraction.load()\n",
    "pages"
   ]
  },
  {
   "cell_type": "markdown",
   "metadata": {},
   "source": [
    "## En utilisant PyMuPDF :\n",
    "### C'est l'options parsing la pluis rapide et contient également la métadata du PDF et ces pages et ça retourne un document par page. "
   ]
  },
  {
   "cell_type": "code",
   "execution_count": 7,
   "metadata": {},
   "outputs": [],
   "source": [
    "from langchain.document_loaders import PyMuPDFLoader\n",
    "\n",
    "loader = PyMuPDFLoader(PDF_FILE_PATH)\n",
    "data = loader.load() #getting the data (content)"
   ]
  },
  {
   "cell_type": "code",
   "execution_count": 11,
   "metadata": {},
   "outputs": [
    {
     "data": {
      "text/plain": [
       "{'page_content': 'Estimation des coûts annuels d’énergie du logement\\nPerformance énergétique\\nExemple de DPE, données ﬁctives non représentatives\\ndiagnostic de performance \\nénergétique (logement)\\nCe document vous permet de savoir si votre logement est économe en énergie et préserve le climat. Il vous donne également des pistes pour \\naméliorer ses performances et réduire vos factures. Pour en savoir plus : <url_gouv_guide_pédagogique>\\nadresse : 42 avenue de la République, 44000 Nantes\\ntype de bien : maison individuelle\\nannée de construction : 2003\\nsurface habitable : 150m2\\npropriétaire : Jean Dupont \\nadresse : place de la Mairie, 44000 Nantes\\nPM Diagnostics\\n12 grande rue, \\n44000 Nantes\\ndiagnostiqueur : Pierre Martin\\ntel : 02 88 22 33 09\\nemail : Pierre@pm-diagnostics.fr\\nn° de certiﬁcation : FR410230 49 \\norganisme de certiﬁcation : CERTIF 311\\n \\nn° : 2D20210532 \\n \\nétabli le : 12/07/2021\\n \\nvalable jusqu’au : 12/07/2031\\nDPE\\nLes coûts sont estimés en fonction des caractéristiques de votre logement et pour une utilisation standard sur 5 usages (chauffage, eau chaude sanitaire, \\nclimatisation, éclairage, auxiliaires) voir p.3 pour voir les détails par poste.\\nPrix moyens des énergies indexés au 1er janvier 2021 (abonnements compris)\\npar an\\nentre\\n2 620 € et\\n3 560 €\\nInformations diagnostiqueur\\nlogement très performant\\nlogement extrêmement consommateur d’énergie\\npassoire \\nénergétique\\nconsommation \\n(énergie primaire)\\némissions\\nA\\nB\\nC\\nE\\nD\\nF\\nG\\nLOGO\\nLe niveau de consommation énergétique dépend de l’isolation du \\nlogement et de la performance des équipements. \\nPour l’améliorer, voir pages 4 à 6 \\nComment réduire ma facture d’énergie ? \\nvoir p.3            \\n216\\nkWh/m2.an\\n52\\n*\\nkg CO₂/m².an\\nCe logement émet 7 933 kg de CO₂ par an, \\nsoit l’équivalent de 41 107 km parcourus \\nen voiture. \\nLe niveau d’émissions dépend \\nprincipalement des types d’énergies \\nutilisées (bois, électricité, gaz, ﬁoul, etc.)          \\n* Dont émissions de gaz \\nà effet de serre \\nA\\nB\\nC\\nE\\nD\\nF\\nG\\npeu d’émissions de CO₂\\némissions de CO₂  \\ntrès importantes\\n52 kg CO₂/m².an\\n<photo du bien>\\n',\n",
       " 'metadata': {'source': 'documents/DPE.pdf',\n",
       "  'file_path': 'documents/DPE.pdf',\n",
       "  'page': 0,\n",
       "  'total_pages': 6,\n",
       "  'format': 'PDF 1.4',\n",
       "  'title': 'Exemple nouveau DPE',\n",
       "  'author': 'sebastien.kuhn',\n",
       "  'subject': '',\n",
       "  'keywords': '',\n",
       "  'creator': 'PDFCreator 3.0.2.8660',\n",
       "  'producer': 'PDFCreator 3.0.2.8660',\n",
       "  'creationDate': \"D:20210217170118+01'00'\",\n",
       "  'modDate': \"D:20210316063126+01'00'\",\n",
       "  'trapped': ''},\n",
       " 'type': 'Document'}"
      ]
     },
     "execution_count": 11,
     "metadata": {},
     "output_type": "execute_result"
    }
   ],
   "source": [
    "data[0].dict()"
   ]
  }
 ],
 "metadata": {
  "kernelspec": {
   "display_name": "Python 3",
   "language": "python",
   "name": "python3"
  },
  "language_info": {
   "codemirror_mode": {
    "name": "ipython",
    "version": 3
   },
   "file_extension": ".py",
   "mimetype": "text/x-python",
   "name": "python",
   "nbconvert_exporter": "python",
   "pygments_lexer": "ipython3",
   "version": "3.10.11"
  }
 },
 "nbformat": 4,
 "nbformat_minor": 2
}
